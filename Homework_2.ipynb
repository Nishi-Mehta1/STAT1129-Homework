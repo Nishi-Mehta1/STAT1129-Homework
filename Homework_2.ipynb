{
 "cells": [
  {
   "cell_type": "code",
   "execution_count": 1,
   "id": "9d508755",
   "metadata": {},
   "outputs": [
    {
     "name": "stdout",
     "output_type": "stream",
     "text": [
      "0\n",
      "1\n",
      "2\n",
      "3\n",
      "4\n"
     ]
    }
   ],
   "source": [
    "n = 0\n",
    "while (n < 10):\n",
    "    print(n)\n",
    "    n = n + 1\n",
    "    if n == 5:\n",
    "        break\n"
   ]
  },
  {
   "cell_type": "code",
   "execution_count": 2,
   "id": "64e43251",
   "metadata": {},
   "outputs": [
    {
     "name": "stdout",
     "output_type": "stream",
     "text": [
      "0\n",
      "1\n",
      "2\n",
      "3\n",
      "4\n",
      "5 is not less than 5\n"
     ]
    }
   ],
   "source": [
    "n = 0\n",
    "while (n < 5):\n",
    "    print(n)\n",
    "    n = n + 1\n",
    "else:\n",
    "    print(n, \"is not less than 5\")"
   ]
  },
  {
   "cell_type": "code",
   "execution_count": 3,
   "id": "25ea4acc",
   "metadata": {},
   "outputs": [
    {
     "name": "stdout",
     "output_type": "stream",
     "text": [
      "I like mango\n",
      "I like strawberry\n",
      "apple is really a fruit?\n"
     ]
    }
   ],
   "source": [
    "fav_fruits = [\"mango\",\"strawberry\", \"apple\", \"raspberry\"]\n",
    "for fruit in fav_fruits:\n",
    "    if \"apple\" in fruit:\n",
    "        print(fruit, \"is really a fruit?\")\n",
    "        break\n",
    "    else:\n",
    "        print(\"I like\", fruit)"
   ]
  },
  {
   "cell_type": "code",
   "execution_count": 4,
   "id": "c091f2c6",
   "metadata": {},
   "outputs": [
    {
     "name": "stdout",
     "output_type": "stream",
     "text": [
      "465\n"
     ]
    }
   ],
   "source": [
    "sum = 0\n",
    "i = 1\n",
    "n = 30\n",
    "while i <= n:\n",
    "    sum = sum + i\n",
    "    i = i + 1\n",
    "print(sum)\n",
    "    "
   ]
  },
  {
   "cell_type": "code",
   "execution_count": 5,
   "id": "7e8756a9",
   "metadata": {},
   "outputs": [
    {
     "name": "stdout",
     "output_type": "stream",
     "text": [
      "Student receives F\n"
     ]
    }
   ],
   "source": [
    "grade = 55\n",
    "\n",
    "if grade >= 90:\n",
    "    print(\"Student receives A\")\n",
    "elif grade > 80:\n",
    "    print(\"Student receives B\")\n",
    "elif grade > 70:\n",
    "    print(\"Student receives C\")\n",
    "elif grade > 60:\n",
    "    print(\"Student receives D\")\n",
    "else:\n",
    "    print(\"Student receives F\")"
   ]
  },
  {
   "cell_type": "code",
   "execution_count": 6,
   "id": "c5c448e7",
   "metadata": {},
   "outputs": [
    {
     "name": "stdout",
     "output_type": "stream",
     "text": [
      "Andy 88\n",
      "Amy 66\n",
      "James 90\n",
      "Jules 55\n",
      "Arthur 77\n"
     ]
    }
   ],
   "source": [
    "marks = {'Andy':88, 'Amy':66, 'James': 90, 'Jules': 55, 'Arthur': 77}\n",
    "\n",
    "for student, grade in marks.items():\n",
    "    print(student, grade)"
   ]
  },
  {
   "cell_type": "code",
   "execution_count": 7,
   "id": "cd7368ca",
   "metadata": {},
   "outputs": [
    {
     "name": "stdout",
     "output_type": "stream",
     "text": [
      "75.2\n",
      "90\n",
      "55\n"
     ]
    }
   ],
   "source": [
    "total = 0\n",
    "for grade in marks.values():\n",
    "    total += grade\n",
    "mean = total/len(marks)\n",
    "print(mean)\n",
    "\n",
    "max_grade = max(marks.values())\n",
    "print(max_grade)\n",
    "\n",
    "min_grade = min(marks.values())\n",
    "print(min_grade)"
   ]
  },
  {
   "cell_type": "code",
   "execution_count": 8,
   "id": "1a38274e",
   "metadata": {},
   "outputs": [
    {
     "name": "stdout",
     "output_type": "stream",
     "text": [
      "Andy\n",
      "Amy\n"
     ]
    }
   ],
   "source": [
    "for student in marks.keys():\n",
    "    if \"J\" in student:\n",
    "        break\n",
    "    print(student)"
   ]
  },
  {
   "cell_type": "code",
   "execution_count": 9,
   "id": "33c4e005",
   "metadata": {},
   "outputs": [
    {
     "name": "stdout",
     "output_type": "stream",
     "text": [
      "Andy\n",
      "Amy\n",
      "Arthur\n"
     ]
    }
   ],
   "source": [
    "for student in marks.keys():\n",
    "    if \"J\" in student:\n",
    "        continue\n",
    "    print(student)"
   ]
  }
 ],
 "metadata": {
  "kernelspec": {
   "display_name": "Python 3 (ipykernel)",
   "language": "python",
   "name": "python3"
  },
  "language_info": {
   "codemirror_mode": {
    "name": "ipython",
    "version": 3
   },
   "file_extension": ".py",
   "mimetype": "text/x-python",
   "name": "python",
   "nbconvert_exporter": "python",
   "pygments_lexer": "ipython3",
   "version": "3.9.7"
  }
 },
 "nbformat": 4,
 "nbformat_minor": 5
}
