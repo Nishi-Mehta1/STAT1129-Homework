{
 "cells": [
  {
   "cell_type": "code",
   "execution_count": 1,
   "id": "dbe1716c",
   "metadata": {},
   "outputs": [
    {
     "data": {
      "text/plain": [
       "{'Andy': 88, 'Amy': 66, 'James': 90, 'Jules': 55, 'Arthur': 77}"
      ]
     },
     "execution_count": 1,
     "metadata": {},
     "output_type": "execute_result"
    }
   ],
   "source": [
    "marks = {'Andy':88, 'Amy':66, 'James': 90, 'Jules': 55, 'Arthur': 77}\n",
    "marks"
   ]
  },
  {
   "cell_type": "code",
   "execution_count": 10,
   "id": "54c80de2",
   "metadata": {},
   "outputs": [
    {
     "name": "stdout",
     "output_type": "stream",
     "text": [
      "88\n",
      "Cannot find this student's name\n"
     ]
    }
   ],
   "source": [
    "def GiveGrade(name):\n",
    "    marks = {'Andy':88, 'Amy':66, 'James': 90, 'Jules': 55, 'Arthur': 77}\n",
    "    for student in marks:\n",
    "        if student == name:\n",
    "            print(marks[student])\n",
    "            break\n",
    "    else:\n",
    "        print(\"Cannot find this student's name\")\n",
    "\n",
    "GiveGrade('Andy')\n",
    "GiveGrade('John')"
   ]
  },
  {
   "cell_type": "code",
   "execution_count": 13,
   "id": "d0c93864",
   "metadata": {},
   "outputs": [
    {
     "name": "stdout",
     "output_type": "stream",
     "text": [
      "75.2\n"
     ]
    }
   ],
   "source": [
    "def averages(num):\n",
    "    total = 0\n",
    "    for grade in marks.values():\n",
    "        total = total + grade\n",
    "    average = total/len(marks)\n",
    "    print(average)\n",
    "        \n",
    "averages(marks)"
   ]
  },
  {
   "cell_type": "code",
   "execution_count": 14,
   "id": "9cac6d64",
   "metadata": {},
   "outputs": [
    {
     "name": "stdout",
     "output_type": "stream",
     "text": [
      "0 0\n",
      "1 1\n",
      "2 4\n",
      "3 9\n",
      "4 16\n",
      "5 25\n",
      "6 36\n",
      "7 49\n",
      "8 \"greater than\" 8\n"
     ]
    }
   ],
   "source": [
    "def Greater_than(num):\n",
    "    n = 0\n",
    "    while n < num:\n",
    "        sq = n ** 2\n",
    "        print(n, sq)\n",
    "        n = n + 1\n",
    "    else:\n",
    "        print(f'{n} \"greater than\" {num}')\n",
    "\n",
    "Greater_than(8)"
   ]
  },
  {
   "cell_type": "code",
   "execution_count": 17,
   "id": "d587989c",
   "metadata": {},
   "outputs": [
    {
     "name": "stdout",
     "output_type": "stream",
     "text": [
      "15\n"
     ]
    }
   ],
   "source": [
    "def summation(num):\n",
    "    sum = 0\n",
    "    n = 1\n",
    "    while n <= num:\n",
    "        sum = sum + n\n",
    "        n = n + 1\n",
    "    print(sum)\n",
    "        \n",
    "summation(5)"
   ]
  },
  {
   "cell_type": "code",
   "execution_count": 18,
   "id": "9328ded1",
   "metadata": {},
   "outputs": [
    {
     "name": "stdout",
     "output_type": "stream",
     "text": [
      "1\n",
      "3\n",
      "6\n",
      "10\n",
      "15\n",
      "21\n",
      "28\n",
      "36\n",
      "45\n"
     ]
    }
   ],
   "source": [
    "def sumfunction(num):\n",
    "    sum = 0\n",
    "    for n in range(1, num):\n",
    "        sum = sum + n\n",
    "        n = n + 1\n",
    "        print(sum)\n",
    "        \n",
    "sumfunction(10)"
   ]
  },
  {
   "cell_type": "code",
   "execution_count": 19,
   "id": "ab92d955",
   "metadata": {},
   "outputs": [],
   "source": [
    "import numpy as np"
   ]
  },
  {
   "cell_type": "code",
   "execution_count": 20,
   "id": "d5507a70",
   "metadata": {},
   "outputs": [
    {
     "name": "stdout",
     "output_type": "stream",
     "text": [
      "50.0 4950 28.577380332470412\n"
     ]
    }
   ],
   "source": [
    "def stats(nums):\n",
    "    x = np.mean(nums)\n",
    "    y = np.sum(nums)\n",
    "    z = np.std(nums)\n",
    "    print(x, y, z)\n",
    "    \n",
    "stats(range(1,100))"
   ]
  },
  {
   "cell_type": "code",
   "execution_count": 21,
   "id": "81c2a627",
   "metadata": {},
   "outputs": [
    {
     "data": {
      "text/plain": [
       "1"
      ]
     },
     "execution_count": 21,
     "metadata": {},
     "output_type": "execute_result"
    }
   ],
   "source": [
    "def minimal(v1, v2, v3, v4):\n",
    "    if v1 <= v2 and v1 <= v3 and v1 <= v4:\n",
    "        return v1\n",
    "    elif v2 <= v3 and v2 <= v4:\n",
    "        return v2\n",
    "    elif v3 <= v4:\n",
    "        return v3\n",
    "    else:\n",
    "        return v4\n",
    "\n",
    "minimal(2, 3, 3, 1)"
   ]
  },
  {
   "cell_type": "code",
   "execution_count": 22,
   "id": "10713057",
   "metadata": {},
   "outputs": [
    {
     "data": {
      "text/plain": [
       "'how are you?'"
      ]
     },
     "execution_count": 22,
     "metadata": {},
     "output_type": "execute_result"
    }
   ],
   "source": [
    "def sentence(v1, v2, v3):\n",
    "    return v1 + v2 + v3\n",
    "\n",
    "sentence(\"how \", \"are \", \"you?\")"
   ]
  }
 ],
 "metadata": {
  "kernelspec": {
   "display_name": "Python 3 (ipykernel)",
   "language": "python",
   "name": "python3"
  },
  "language_info": {
   "codemirror_mode": {
    "name": "ipython",
    "version": 3
   },
   "file_extension": ".py",
   "mimetype": "text/x-python",
   "name": "python",
   "nbconvert_exporter": "python",
   "pygments_lexer": "ipython3",
   "version": "3.9.7"
  }
 },
 "nbformat": 4,
 "nbformat_minor": 5
}
