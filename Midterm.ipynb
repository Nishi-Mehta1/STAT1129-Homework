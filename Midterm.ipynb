{
 "cells": [
  {
   "cell_type": "code",
   "execution_count": 1,
   "id": "3a1e7211",
   "metadata": {},
   "outputs": [
    {
     "name": "stdout",
     "output_type": "stream",
     "text": [
      "2,4,6,8,4,5,2,1,9,0,4,6,7,4,3,2,1,9,10,3,7,9,6,0,1,3,5,6,7,8,9,10,2,3,6,8,9,10,6,7,4,3\n",
      "2,1,9,10,3,7,9,6,0,1,3,5,6,7,8,9,10,2,3,6,8,9,10,2,4,6,8,4,5,2,1,9,0,4,6,7,4,3,2,1,9,10,3,7,9,6\n",
      "4,5,2,1,9,0,4,6,7,4,3,2,1,9,10,3,7,9,6,0,1,3,5,6,7,8,9,10,2,3,6,8,9,10,6,7,4,3,6,8,4,5,2\n",
      "10,3,7,9,6,0,1,3,5,6,7,8,9,10,2,3,6,8,9,10,2,4,6,8,4,5,2,1,9,0,4,6,7,4\n",
      "2,4,6,8,4,5,2,1,9,0,4,6,7,4,3,2,1,9,10,3,7,9,6\n"
     ]
    }
   ],
   "source": [
    "f = open(\"/Users/nishi/Downloads/STAT 1129/Mid-term Project/numbers.txt\", \"r\")\n",
    "print(f.read())"
   ]
  },
  {
   "cell_type": "code",
   "execution_count": 2,
   "id": "9da766b0",
   "metadata": {},
   "outputs": [
    {
     "data": {
      "text/plain": [
       "{2: 19, 4: 22, 6: 26, 8: 13, 5: 10, 1: 14, 9: 24, 0: 9, 7: 17, 3: 20, 10: 14}"
      ]
     },
     "execution_count": 2,
     "metadata": {},
     "output_type": "execute_result"
    }
   ],
   "source": [
    "def frequency(f):\n",
    "    num_freq = {}\n",
    "    for item in f:\n",
    "        if (item in num_freq):\n",
    "            num_freq[item] += 1\n",
    "        else:\n",
    "            num_freq[item] = 1\n",
    "    return(num_freq)\n",
    "f = [2,4,6,8,4,5,2,1,9,0,4,6,7,4,3,2,1,9,10,3,7,9,6,0,1,3,5,6,7,8,9,10,2,3,6,8,9,10,6,7,4,3,2,1,9,10,3,7,9,6,0,1,3,5,6,7,8,9,10,2,3,6,8,9,10,2,4,6,8,4,5,2,1,9,0,4,6,7,4,3,2,1,9,10,3,7,9,6,4,5,2,1,9,0,4,6,7,4,3,2,1,9,10,3,7,9,6,0,1,3,5,6,7,8,9,10,2,3,6,8,9,10,6,7,4,3,6,8,4,5,2,10,3,7,9,6,0,1,3,5,6,7,8,9,10,2,3,6,8,9,10,2,4,6,8,4,5,2,1,9,0,4,6,7,4,2,4,6,8,4,5,2,1,9,0,4,6,7,4,3,2,1,9,10,3,7,9,6]\n",
    "\n",
    "frequency(f)"
   ]
  },
  {
   "cell_type": "code",
   "execution_count": 3,
   "id": "d8f8d118",
   "metadata": {},
   "outputs": [
    {
     "data": {
      "text/plain": [
       "<function matplotlib.pyplot.show(close=None, block=None)>"
      ]
     },
     "execution_count": 3,
     "metadata": {},
     "output_type": "execute_result"
    },
    {
     "data": {
      "image/png": "[encoded data removed]",
      "text/plain": [
       "<Figure size 432x288 with 1 Axes>"
      ]
     },
     "metadata": {
      "needs_background": "light"
     },
     "output_type": "display_data"
    }
   ],
   "source": [
    "import matplotlib.pyplot as plt\n",
    "import numpy as np\n",
    "plt.hist(f)\n",
    "plt.show"
   ]
  },
  {
   "cell_type": "code",
   "execution_count": 4,
   "id": "f49c499e",
   "metadata": {},
   "outputs": [
    {
     "name": "stdout",
     "output_type": "stream",
     "text": [
      "{\"2\": 19, \"4\": 22, \"6\": 26, \"8\": 13, \"5\": 10, \"1\": 14, \"9\": 24, \"0\": 9, \"7\": 17, \"3\": 20, \"10\": 14}\n"
     ]
    },
    {
     "data": {
      "text/plain": [
       "'{\"2\": 19, \"4\": 22, \"6\": 26, \"8\": 13, \"5\": 10, \"1\": 14, \"9\": 24, \"0\": 9, \"7\": 17, \"3\": 20, \"10\": 14}'"
      ]
     },
     "execution_count": 4,
     "metadata": {},
     "output_type": "execute_result"
    }
   ],
   "source": [
    "import json\n",
    "\n",
    "x = {\n",
    "    2: 19, \n",
    "    4: 22, \n",
    "    6: 26, \n",
    "    8: 13, \n",
    "    5: 10, \n",
    "    1: 14, \n",
    "    9: 24, \n",
    "    0: 9, \n",
    "    7: 17, \n",
    "    3: 20, \n",
    "    10: 14}\n",
    "\n",
    "y = json.dumps(x)\n",
    "\n",
    "print(y)\n",
    "\n",
    "with open(\"/Users/nishi/Downloads/STAT 1129/Mid-term Project/output.json\", \"w\") as out:\n",
    "    json.dump(x, out)\n",
    "\n",
    "f = open(\"/Users/nishi/Downloads/STAT 1129/Mid-term Project/output.json\", \"r\")\n",
    "f.read()"
   ]
  },
  {
   "cell_type": "code",
   "execution_count": 5,
   "id": "6cde042b",
   "metadata": {},
   "outputs": [
    {
     "name": "stdout",
     "output_type": "stream",
     "text": [
      "<bound method DataFrame.to_string of    Order Data     Order ID Payment Instrument Type     Website  \\\n",
      "0      1/2/23  11200000001             Visa - 0001  amazon.com   \n",
      "1      1/3/23  11200000002             Visa - 0001  amazon.com   \n",
      "2      1/5/23  11200000003             Visa - 0001  amazon.com   \n",
      "3      1/6/23  11200000004             Visa - 0001  amazon.com   \n",
      "4      1/8/23  11200000005             Visa - 0001  amazon.com   \n",
      "..        ...          ...                     ...         ...   \n",
      "57    3/21/23  11200000058             Visa - 0001  amazon.com   \n",
      "58    3/22/23  11200000059             Visa - 0001  amazon.com   \n",
      "59    3/24/23  11200000060             Visa - 0001  amazon.com   \n",
      "60    3/28/23  11200000061             Visa - 0001  amazon.com   \n",
      "61    3/28/23  11200000062             Visa - 0001  amazon.com   \n",
      "\n",
      "    Purchase Order Ordering Customer Email Shipping Day Shipping Address Name  \\\n",
      "0                1     nishi_mehta@gwu.edu       1/2/23           Nishi Mehta   \n",
      "1                2     nishi_mehta@gwu.edu       1/3/23           Nishi Mehta   \n",
      "2                3     nishi_mehta@gwu.edu       1/5/23           Nishi Mehta   \n",
      "3                4     nishi_mehta@gwu.edu       1/6/23           Nishi Mehta   \n",
      "4                5     nishi_mehta@gwu.edu       1/8/23           Nishi Mehta   \n",
      "..             ...                     ...          ...                   ...   \n",
      "57              58     nishi_mehta@gwu.edu      3/21/23           Nishi Mehta   \n",
      "58              59     nishi_mehta@gwu.edu      3/22/23           Nishi Mehta   \n",
      "59              60     nishi_mehta@gwu.edu      3/24/23           Nishi Mehta   \n",
      "60              61     nishi_mehta@gwu.edu      3/28/23           Nishi Mehta   \n",
      "61              62     nishi_mehta@gwu.edu      3/28/23           Nishi Mehta   \n",
      "\n",
      "   Shipping Address        City State  Zipcode Order Status      Carrier  \\\n",
      "0    616 23rd St NW  Washington    DC    20052      Shipped  USPS (0001)   \n",
      "1    616 23rd St NW  Washington    DC    20052      Shipped  USPS (0001)   \n",
      "2    616 23rd St NW  Washington    DC    20052      Shipped  USPS (0001)   \n",
      "3    616 23rd St NW  Washington    DC    20052      Shipped  USPS (0001)   \n",
      "4    616 23rd St NW  Washington    DC    20052      Shipped  USPS (0001)   \n",
      "..              ...         ...   ...      ...          ...          ...   \n",
      "57   616 23rd St NW  Washington    DC    20052      Shipped  USPS (0001)   \n",
      "58   616 23rd St NW  Washington    DC    20052      Shipped  USPS (0001)   \n",
      "59   616 23rd St NW  Washington    DC    20052      Shipped  USPS (0001)   \n",
      "60   616 23rd St NW  Washington    DC    20052      Shipped  USPS (0001)   \n",
      "61   616 23rd St NW  Washington    DC    20052      Shipped  USPS (0001)   \n",
      "\n",
      "    Subtotal  Shipping Charge   Tax  Total Charged    Category  \n",
      "0      35.23                1  2.50          38.73        Book  \n",
      "1      14.78                0  0.50          14.50  Stationary  \n",
      "2      67.59                0  3.45          71.04        Food  \n",
      "3       8.72                0  0.43           9.15  Stationary  \n",
      "4      10.11                0  0.67          10.78       Movie  \n",
      "..       ...              ...   ...            ...         ...  \n",
      "57     54.15                2  2.34          58.49        Food  \n",
      "58      7.94                0  0.28           8.22  Stationary  \n",
      "59     36.56                1  1.57          39.13        Food  \n",
      "60     68.23                3  3.45          74.68        Home  \n",
      "61     11.98                0  0.56          12.54       Movie  \n",
      "\n",
      "[62 rows x 19 columns]>\n"
     ]
    }
   ],
   "source": [
    "import pandas as pd\n",
    "import numpy as np\n",
    "\n",
    "df = pd.read_csv(\"/Users/nishi/Downloads/STAT 1129/Mid-term Project/amazon-orders.csv\")\n",
    "\n",
    "print(df.to_string)"
   ]
  },
  {
   "cell_type": "code",
   "execution_count": 6,
   "id": "5496230e",
   "metadata": {},
   "outputs": [
    {
     "data": {
      "text/html": [
       "<div>\n",
       "<style scoped>\n",
       "    .dataframe tbody tr th:only-of-type {\n",
       "        vertical-align: middle;\n",
       "    }\n",
       "\n",
       "    .dataframe tbody tr th {\n",
       "        vertical-align: top;\n",
       "    }\n",
       "\n",
       "    .dataframe thead th {\n",
       "        text-align: right;\n",
       "    }\n",
       "</style>\n",
       "<table border=\"1\" class=\"dataframe\">\n",
       "  <thead>\n",
       "    <tr style=\"text-align: right;\">\n",
       "      <th></th>\n",
       "      <th>Order ID</th>\n",
       "      <th>Purchase Order</th>\n",
       "      <th>Zipcode</th>\n",
       "      <th>Subtotal</th>\n",
       "      <th>Shipping Charge</th>\n",
       "      <th>Tax</th>\n",
       "      <th>Total Charged</th>\n",
       "    </tr>\n",
       "  </thead>\n",
       "  <tbody>\n",
       "    <tr>\n",
       "      <th>count</th>\n",
       "      <td>6.200000e+01</td>\n",
       "      <td>62.000000</td>\n",
       "      <td>62.0</td>\n",
       "      <td>62.000000</td>\n",
       "      <td>62.000000</td>\n",
       "      <td>62.000000</td>\n",
       "      <td>62.000000</td>\n",
       "    </tr>\n",
       "    <tr>\n",
       "      <th>mean</th>\n",
       "      <td>1.120000e+10</td>\n",
       "      <td>31.500000</td>\n",
       "      <td>20052.0</td>\n",
       "      <td>30.999839</td>\n",
       "      <td>0.903226</td>\n",
       "      <td>1.643548</td>\n",
       "      <td>33.533065</td>\n",
       "    </tr>\n",
       "    <tr>\n",
       "      <th>std</th>\n",
       "      <td>1.804162e+01</td>\n",
       "      <td>18.041619</td>\n",
       "      <td>0.0</td>\n",
       "      <td>25.777779</td>\n",
       "      <td>1.565087</td>\n",
       "      <td>1.362602</td>\n",
       "      <td>28.560186</td>\n",
       "    </tr>\n",
       "    <tr>\n",
       "      <th>min</th>\n",
       "      <td>1.120000e+10</td>\n",
       "      <td>1.000000</td>\n",
       "      <td>20052.0</td>\n",
       "      <td>3.230000</td>\n",
       "      <td>0.000000</td>\n",
       "      <td>0.150000</td>\n",
       "      <td>3.380000</td>\n",
       "    </tr>\n",
       "    <tr>\n",
       "      <th>25%</th>\n",
       "      <td>1.120000e+10</td>\n",
       "      <td>16.250000</td>\n",
       "      <td>20052.0</td>\n",
       "      <td>12.505000</td>\n",
       "      <td>0.000000</td>\n",
       "      <td>0.612500</td>\n",
       "      <td>13.157500</td>\n",
       "    </tr>\n",
       "    <tr>\n",
       "      <th>50%</th>\n",
       "      <td>1.120000e+10</td>\n",
       "      <td>31.500000</td>\n",
       "      <td>20052.0</td>\n",
       "      <td>22.860000</td>\n",
       "      <td>0.000000</td>\n",
       "      <td>1.285000</td>\n",
       "      <td>24.125000</td>\n",
       "    </tr>\n",
       "    <tr>\n",
       "      <th>75%</th>\n",
       "      <td>1.120000e+10</td>\n",
       "      <td>46.750000</td>\n",
       "      <td>20052.0</td>\n",
       "      <td>41.160000</td>\n",
       "      <td>1.000000</td>\n",
       "      <td>2.430000</td>\n",
       "      <td>45.342500</td>\n",
       "    </tr>\n",
       "    <tr>\n",
       "      <th>max</th>\n",
       "      <td>1.120000e+10</td>\n",
       "      <td>62.000000</td>\n",
       "      <td>20052.0</td>\n",
       "      <td>123.410000</td>\n",
       "      <td>8.000000</td>\n",
       "      <td>7.040000</td>\n",
       "      <td>138.450000</td>\n",
       "    </tr>\n",
       "  </tbody>\n",
       "</table>\n",
       "</div>"
      ],
      "text/plain": [
       "           Order ID  Purchase Order  Zipcode    Subtotal  Shipping Charge  \\\n",
       "count  6.200000e+01       62.000000     62.0   62.000000        62.000000   \n",
       "mean   1.120000e+10       31.500000  20052.0   30.999839         0.903226   \n",
       "std    1.804162e+01       18.041619      0.0   25.777779         1.565087   \n",
       "min    1.120000e+10        1.000000  20052.0    3.230000         0.000000   \n",
       "25%    1.120000e+10       16.250000  20052.0   12.505000         0.000000   \n",
       "50%    1.120000e+10       31.500000  20052.0   22.860000         0.000000   \n",
       "75%    1.120000e+10       46.750000  20052.0   41.160000         1.000000   \n",
       "max    1.120000e+10       62.000000  20052.0  123.410000         8.000000   \n",
       "\n",
       "             Tax  Total Charged  \n",
       "count  62.000000      62.000000  \n",
       "mean    1.643548      33.533065  \n",
       "std     1.362602      28.560186  \n",
       "min     0.150000       3.380000  \n",
       "25%     0.612500      13.157500  \n",
       "50%     1.285000      24.125000  \n",
       "75%     2.430000      45.342500  \n",
       "max     7.040000     138.450000  "
      ]
     },
     "execution_count": 6,
     "metadata": {},
     "output_type": "execute_result"
    }
   ],
   "source": [
    "df.describe()"
   ]
  },
  {
   "cell_type": "code",
   "execution_count": 7,
   "id": "f709610e",
   "metadata": {},
   "outputs": [
    {
     "data": {
      "text/html": [
       "<div>\n",
       "<style scoped>\n",
       "    .dataframe tbody tr th:only-of-type {\n",
       "        vertical-align: middle;\n",
       "    }\n",
       "\n",
       "    .dataframe tbody tr th {\n",
       "        vertical-align: top;\n",
       "    }\n",
       "\n",
       "    .dataframe thead th {\n",
       "        text-align: right;\n",
       "    }\n",
       "</style>\n",
       "<table border=\"1\" class=\"dataframe\">\n",
       "  <thead>\n",
       "    <tr style=\"text-align: right;\">\n",
       "      <th></th>\n",
       "      <th>Order ID</th>\n",
       "      <th>Purchase Order</th>\n",
       "      <th>Zipcode</th>\n",
       "      <th>Subtotal</th>\n",
       "      <th>Shipping Charge</th>\n",
       "      <th>Tax</th>\n",
       "      <th>Total Charged</th>\n",
       "    </tr>\n",
       "  </thead>\n",
       "  <tbody>\n",
       "    <tr>\n",
       "      <th>count</th>\n",
       "      <td>2.000000e+01</td>\n",
       "      <td>20.00000</td>\n",
       "      <td>20.0</td>\n",
       "      <td>20.000000</td>\n",
       "      <td>20.000000</td>\n",
       "      <td>20.000000</td>\n",
       "      <td>20.000000</td>\n",
       "    </tr>\n",
       "    <tr>\n",
       "      <th>mean</th>\n",
       "      <td>1.120000e+10</td>\n",
       "      <td>10.50000</td>\n",
       "      <td>20052.0</td>\n",
       "      <td>32.475500</td>\n",
       "      <td>0.950000</td>\n",
       "      <td>1.720500</td>\n",
       "      <td>35.101500</td>\n",
       "    </tr>\n",
       "    <tr>\n",
       "      <th>std</th>\n",
       "      <td>5.916080e+00</td>\n",
       "      <td>5.91608</td>\n",
       "      <td>0.0</td>\n",
       "      <td>27.817603</td>\n",
       "      <td>1.605091</td>\n",
       "      <td>1.418017</td>\n",
       "      <td>30.593986</td>\n",
       "    </tr>\n",
       "    <tr>\n",
       "      <th>min</th>\n",
       "      <td>1.120000e+10</td>\n",
       "      <td>1.00000</td>\n",
       "      <td>20052.0</td>\n",
       "      <td>3.230000</td>\n",
       "      <td>0.000000</td>\n",
       "      <td>0.150000</td>\n",
       "      <td>3.380000</td>\n",
       "    </tr>\n",
       "    <tr>\n",
       "      <th>25%</th>\n",
       "      <td>1.120000e+10</td>\n",
       "      <td>5.75000</td>\n",
       "      <td>20052.0</td>\n",
       "      <td>11.895000</td>\n",
       "      <td>0.000000</td>\n",
       "      <td>0.627500</td>\n",
       "      <td>12.715000</td>\n",
       "    </tr>\n",
       "    <tr>\n",
       "      <th>50%</th>\n",
       "      <td>1.120000e+10</td>\n",
       "      <td>10.50000</td>\n",
       "      <td>20052.0</td>\n",
       "      <td>21.850000</td>\n",
       "      <td>0.000000</td>\n",
       "      <td>1.235000</td>\n",
       "      <td>23.085000</td>\n",
       "    </tr>\n",
       "    <tr>\n",
       "      <th>75%</th>\n",
       "      <td>1.120000e+10</td>\n",
       "      <td>15.25000</td>\n",
       "      <td>20052.0</td>\n",
       "      <td>42.620000</td>\n",
       "      <td>1.250000</td>\n",
       "      <td>2.597500</td>\n",
       "      <td>47.252500</td>\n",
       "    </tr>\n",
       "    <tr>\n",
       "      <th>max</th>\n",
       "      <td>1.120000e+10</td>\n",
       "      <td>20.00000</td>\n",
       "      <td>20052.0</td>\n",
       "      <td>91.600000</td>\n",
       "      <td>5.000000</td>\n",
       "      <td>4.890000</td>\n",
       "      <td>101.490000</td>\n",
       "    </tr>\n",
       "  </tbody>\n",
       "</table>\n",
       "</div>"
      ],
      "text/plain": [
       "           Order ID  Purchase Order  Zipcode   Subtotal  Shipping Charge  \\\n",
       "count  2.000000e+01        20.00000     20.0  20.000000        20.000000   \n",
       "mean   1.120000e+10        10.50000  20052.0  32.475500         0.950000   \n",
       "std    5.916080e+00         5.91608      0.0  27.817603         1.605091   \n",
       "min    1.120000e+10         1.00000  20052.0   3.230000         0.000000   \n",
       "25%    1.120000e+10         5.75000  20052.0  11.895000         0.000000   \n",
       "50%    1.120000e+10        10.50000  20052.0  21.850000         0.000000   \n",
       "75%    1.120000e+10        15.25000  20052.0  42.620000         1.250000   \n",
       "max    1.120000e+10        20.00000  20052.0  91.600000         5.000000   \n",
       "\n",
       "             Tax  Total Charged  \n",
       "count  20.000000      20.000000  \n",
       "mean    1.720500      35.101500  \n",
       "std     1.418017      30.593986  \n",
       "min     0.150000       3.380000  \n",
       "25%     0.627500      12.715000  \n",
       "50%     1.235000      23.085000  \n",
       "75%     2.597500      47.252500  \n",
       "max     4.890000     101.490000  "
      ]
     },
     "execution_count": 7,
     "metadata": {},
     "output_type": "execute_result"
    }
   ],
   "source": [
    "january = df[0:20].describe()\n",
    "january"
   ]
  },
  {
   "cell_type": "code",
   "execution_count": 8,
   "id": "7f9f7160",
   "metadata": {},
   "outputs": [
    {
     "data": {
      "text/html": [
       "<div>\n",
       "<style scoped>\n",
       "    .dataframe tbody tr th:only-of-type {\n",
       "        vertical-align: middle;\n",
       "    }\n",
       "\n",
       "    .dataframe tbody tr th {\n",
       "        vertical-align: top;\n",
       "    }\n",
       "\n",
       "    .dataframe thead th {\n",
       "        text-align: right;\n",
       "    }\n",
       "</style>\n",
       "<table border=\"1\" class=\"dataframe\">\n",
       "  <thead>\n",
       "    <tr style=\"text-align: right;\">\n",
       "      <th></th>\n",
       "      <th>Order ID</th>\n",
       "      <th>Purchase Order</th>\n",
       "      <th>Zipcode</th>\n",
       "      <th>Subtotal</th>\n",
       "      <th>Shipping Charge</th>\n",
       "      <th>Tax</th>\n",
       "      <th>Total Charged</th>\n",
       "    </tr>\n",
       "  </thead>\n",
       "  <tbody>\n",
       "    <tr>\n",
       "      <th>count</th>\n",
       "      <td>2.100000e+01</td>\n",
       "      <td>21.000000</td>\n",
       "      <td>21.0</td>\n",
       "      <td>21.000000</td>\n",
       "      <td>21.000000</td>\n",
       "      <td>21.000000</td>\n",
       "      <td>21.000000</td>\n",
       "    </tr>\n",
       "    <tr>\n",
       "      <th>mean</th>\n",
       "      <td>1.120000e+10</td>\n",
       "      <td>31.000000</td>\n",
       "      <td>20052.0</td>\n",
       "      <td>29.701905</td>\n",
       "      <td>0.761905</td>\n",
       "      <td>1.623333</td>\n",
       "      <td>32.087143</td>\n",
       "    </tr>\n",
       "    <tr>\n",
       "      <th>std</th>\n",
       "      <td>6.204837e+00</td>\n",
       "      <td>6.204837</td>\n",
       "      <td>0.0</td>\n",
       "      <td>22.242058</td>\n",
       "      <td>1.135991</td>\n",
       "      <td>1.133822</td>\n",
       "      <td>24.442193</td>\n",
       "    </tr>\n",
       "    <tr>\n",
       "      <th>min</th>\n",
       "      <td>1.120000e+10</td>\n",
       "      <td>21.000000</td>\n",
       "      <td>20052.0</td>\n",
       "      <td>5.320000</td>\n",
       "      <td>0.000000</td>\n",
       "      <td>0.230000</td>\n",
       "      <td>5.550000</td>\n",
       "    </tr>\n",
       "    <tr>\n",
       "      <th>25%</th>\n",
       "      <td>1.120000e+10</td>\n",
       "      <td>26.000000</td>\n",
       "      <td>20052.0</td>\n",
       "      <td>12.880000</td>\n",
       "      <td>0.000000</td>\n",
       "      <td>0.620000</td>\n",
       "      <td>13.400000</td>\n",
       "    </tr>\n",
       "    <tr>\n",
       "      <th>50%</th>\n",
       "      <td>1.120000e+10</td>\n",
       "      <td>31.000000</td>\n",
       "      <td>20052.0</td>\n",
       "      <td>24.710000</td>\n",
       "      <td>0.000000</td>\n",
       "      <td>1.570000</td>\n",
       "      <td>26.530000</td>\n",
       "    </tr>\n",
       "    <tr>\n",
       "      <th>75%</th>\n",
       "      <td>1.120000e+10</td>\n",
       "      <td>36.000000</td>\n",
       "      <td>20052.0</td>\n",
       "      <td>34.060000</td>\n",
       "      <td>1.000000</td>\n",
       "      <td>1.890000</td>\n",
       "      <td>36.990000</td>\n",
       "    </tr>\n",
       "    <tr>\n",
       "      <th>max</th>\n",
       "      <td>1.120000e+10</td>\n",
       "      <td>41.000000</td>\n",
       "      <td>20052.0</td>\n",
       "      <td>89.560000</td>\n",
       "      <td>4.000000</td>\n",
       "      <td>4.540000</td>\n",
       "      <td>98.100000</td>\n",
       "    </tr>\n",
       "  </tbody>\n",
       "</table>\n",
       "</div>"
      ],
      "text/plain": [
       "           Order ID  Purchase Order  Zipcode   Subtotal  Shipping Charge  \\\n",
       "count  2.100000e+01       21.000000     21.0  21.000000        21.000000   \n",
       "mean   1.120000e+10       31.000000  20052.0  29.701905         0.761905   \n",
       "std    6.204837e+00        6.204837      0.0  22.242058         1.135991   \n",
       "min    1.120000e+10       21.000000  20052.0   5.320000         0.000000   \n",
       "25%    1.120000e+10       26.000000  20052.0  12.880000         0.000000   \n",
       "50%    1.120000e+10       31.000000  20052.0  24.710000         0.000000   \n",
       "75%    1.120000e+10       36.000000  20052.0  34.060000         1.000000   \n",
       "max    1.120000e+10       41.000000  20052.0  89.560000         4.000000   \n",
       "\n",
       "             Tax  Total Charged  \n",
       "count  21.000000      21.000000  \n",
       "mean    1.623333      32.087143  \n",
       "std     1.133822      24.442193  \n",
       "min     0.230000       5.550000  \n",
       "25%     0.620000      13.400000  \n",
       "50%     1.570000      26.530000  \n",
       "75%     1.890000      36.990000  \n",
       "max     4.540000      98.100000  "
      ]
     },
     "execution_count": 8,
     "metadata": {},
     "output_type": "execute_result"
    }
   ],
   "source": [
    "february = df[20:41].describe()\n",
    "february"
   ]
  },
  {
   "cell_type": "code",
   "execution_count": 9,
   "id": "5ec906ac",
   "metadata": {},
   "outputs": [
    {
     "data": {
      "text/html": [
       "<div>\n",
       "<style scoped>\n",
       "    .dataframe tbody tr th:only-of-type {\n",
       "        vertical-align: middle;\n",
       "    }\n",
       "\n",
       "    .dataframe tbody tr th {\n",
       "        vertical-align: top;\n",
       "    }\n",
       "\n",
       "    .dataframe thead th {\n",
       "        text-align: right;\n",
       "    }\n",
       "</style>\n",
       "<table border=\"1\" class=\"dataframe\">\n",
       "  <thead>\n",
       "    <tr style=\"text-align: right;\">\n",
       "      <th></th>\n",
       "      <th>Order ID</th>\n",
       "      <th>Purchase Order</th>\n",
       "      <th>Zipcode</th>\n",
       "      <th>Subtotal</th>\n",
       "      <th>Shipping Charge</th>\n",
       "      <th>Tax</th>\n",
       "      <th>Total Charged</th>\n",
       "    </tr>\n",
       "  </thead>\n",
       "  <tbody>\n",
       "    <tr>\n",
       "      <th>count</th>\n",
       "      <td>2.100000e+01</td>\n",
       "      <td>21.000000</td>\n",
       "      <td>21.0</td>\n",
       "      <td>21.000000</td>\n",
       "      <td>21.000000</td>\n",
       "      <td>21.000000</td>\n",
       "      <td>21.000000</td>\n",
       "    </tr>\n",
       "    <tr>\n",
       "      <th>mean</th>\n",
       "      <td>1.120000e+10</td>\n",
       "      <td>52.000000</td>\n",
       "      <td>20052.0</td>\n",
       "      <td>30.892381</td>\n",
       "      <td>1.000000</td>\n",
       "      <td>1.590476</td>\n",
       "      <td>33.485238</td>\n",
       "    </tr>\n",
       "    <tr>\n",
       "      <th>std</th>\n",
       "      <td>6.204837e+00</td>\n",
       "      <td>6.204837</td>\n",
       "      <td>0.0</td>\n",
       "      <td>28.158669</td>\n",
       "      <td>1.923538</td>\n",
       "      <td>1.567736</td>\n",
       "      <td>31.568435</td>\n",
       "    </tr>\n",
       "    <tr>\n",
       "      <th>min</th>\n",
       "      <td>1.120000e+10</td>\n",
       "      <td>42.000000</td>\n",
       "      <td>20052.0</td>\n",
       "      <td>7.420000</td>\n",
       "      <td>0.000000</td>\n",
       "      <td>0.230000</td>\n",
       "      <td>7.650000</td>\n",
       "    </tr>\n",
       "    <tr>\n",
       "      <th>25%</th>\n",
       "      <td>1.120000e+10</td>\n",
       "      <td>47.000000</td>\n",
       "      <td>20052.0</td>\n",
       "      <td>12.550000</td>\n",
       "      <td>0.000000</td>\n",
       "      <td>0.560000</td>\n",
       "      <td>13.130000</td>\n",
       "    </tr>\n",
       "    <tr>\n",
       "      <th>50%</th>\n",
       "      <td>1.120000e+10</td>\n",
       "      <td>52.000000</td>\n",
       "      <td>20052.0</td>\n",
       "      <td>22.560000</td>\n",
       "      <td>0.000000</td>\n",
       "      <td>1.120000</td>\n",
       "      <td>23.640000</td>\n",
       "    </tr>\n",
       "    <tr>\n",
       "      <th>75%</th>\n",
       "      <td>1.120000e+10</td>\n",
       "      <td>57.000000</td>\n",
       "      <td>20052.0</td>\n",
       "      <td>42.650000</td>\n",
       "      <td>2.000000</td>\n",
       "      <td>2.340000</td>\n",
       "      <td>47.500000</td>\n",
       "    </tr>\n",
       "    <tr>\n",
       "      <th>max</th>\n",
       "      <td>1.120000e+10</td>\n",
       "      <td>62.000000</td>\n",
       "      <td>20052.0</td>\n",
       "      <td>123.410000</td>\n",
       "      <td>8.000000</td>\n",
       "      <td>7.040000</td>\n",
       "      <td>138.450000</td>\n",
       "    </tr>\n",
       "  </tbody>\n",
       "</table>\n",
       "</div>"
      ],
      "text/plain": [
       "           Order ID  Purchase Order  Zipcode    Subtotal  Shipping Charge  \\\n",
       "count  2.100000e+01       21.000000     21.0   21.000000        21.000000   \n",
       "mean   1.120000e+10       52.000000  20052.0   30.892381         1.000000   \n",
       "std    6.204837e+00        6.204837      0.0   28.158669         1.923538   \n",
       "min    1.120000e+10       42.000000  20052.0    7.420000         0.000000   \n",
       "25%    1.120000e+10       47.000000  20052.0   12.550000         0.000000   \n",
       "50%    1.120000e+10       52.000000  20052.0   22.560000         0.000000   \n",
       "75%    1.120000e+10       57.000000  20052.0   42.650000         2.000000   \n",
       "max    1.120000e+10       62.000000  20052.0  123.410000         8.000000   \n",
       "\n",
       "             Tax  Total Charged  \n",
       "count  21.000000      21.000000  \n",
       "mean    1.590476      33.485238  \n",
       "std     1.567736      31.568435  \n",
       "min     0.230000       7.650000  \n",
       "25%     0.560000      13.130000  \n",
       "50%     1.120000      23.640000  \n",
       "75%     2.340000      47.500000  \n",
       "max     7.040000     138.450000  "
      ]
     },
     "execution_count": 9,
     "metadata": {},
     "output_type": "execute_result"
    }
   ],
   "source": [
    "march = df[41:62].describe()\n",
    "march"
   ]
  },
  {
   "cell_type": "code",
   "execution_count": 10,
   "id": "430fdeb3",
   "metadata": {
    "scrolled": true
   },
   "outputs": [
    {
     "name": "stdout",
     "output_type": "stream",
     "text": [
      "['Book' 'Stationary' 'Food' 'Movie' 'Home']\n"
     ]
    }
   ],
   "source": [
    "print(df['Category'].unique())"
   ]
  },
  {
   "cell_type": "code",
   "execution_count": 11,
   "id": "8b891325",
   "metadata": {},
   "outputs": [
    {
     "name": "stdout",
     "output_type": "stream",
     "text": [
      "Category\n",
      "Book          11\n",
      "Food          11\n",
      "Home          17\n",
      "Movie         10\n",
      "Stationary    13\n",
      "dtype: int64\n"
     ]
    }
   ],
   "source": [
    "print(df.groupby('Category').size())"
   ]
  },
  {
   "cell_type": "code",
   "execution_count": 12,
   "id": "a520364a",
   "metadata": {},
   "outputs": [
    {
     "data": {
      "image/png": "[encoded data removed]",
      "text/plain": [
       "<Figure size 432x288 with 1 Axes>"
      ]
     },
     "metadata": {},
     "output_type": "display_data"
    }
   ],
   "source": [
    "y = np.array([11, 13, 11, 10, 17])\n",
    "mylabels = [\"Book\", \"Stationary\", \"Food\", \"Movie\", \"Home\"]\n",
    "\n",
    "plt.pie(y, labels = mylabels)\n",
    "plt.legend(title = \"Categories\", bbox_to_anchor=(1.05, 1.0), loc = 'upper left')\n",
    "plt.show()"
   ]
  },
  {
   "cell_type": "code",
   "execution_count": 13,
   "id": "2306b33a",
   "metadata": {},
   "outputs": [
    {
     "name": "stderr",
     "output_type": "stream",
     "text": [
      "/Users/nishi/opt/anaconda3/lib/python3.9/site-packages/seaborn/_decorators.py:36: FutureWarning: Pass the following variable as a keyword arg: x. From version 0.12, the only valid positional argument will be `data`, and passing other arguments without an explicit keyword will result in an error or misinterpretation.\n",
      "  warnings.warn(\n"
     ]
    },
    {
     "data": {
      "text/plain": [
       "<function matplotlib.pyplot.show(close=None, block=None)>"
      ]
     },
     "execution_count": 13,
     "metadata": {},
     "output_type": "execute_result"
    },
    {
     "data": {
      "image/png": "[encoded data removed]",
      "text/plain": [
       "<Figure size 432x288 with 1 Axes>"
      ]
     },
     "metadata": {
      "needs_background": "light"
     },
     "output_type": "display_data"
    }
   ],
   "source": [
    "import seaborn as sns\n",
    "sns.countplot(df['Category'], label = 'Count')\n",
    "plt.show"
   ]
  },
  {
   "cell_type": "code",
   "execution_count": 14,
   "id": "c8331200",
   "metadata": {},
   "outputs": [
    {
     "data": {
      "text/plain": [
       "<function matplotlib.pyplot.show(close=None, block=None)>"
      ]
     },
     "execution_count": 14,
     "metadata": {},
     "output_type": "execute_result"
    },
    {
     "data": {
      "image/png": "[encoded data removed]",
      "text/plain": [
       "<Figure size 432x288 with 1 Axes>"
      ]
     },
     "metadata": {
      "needs_background": "light"
     },
     "output_type": "display_data"
    }
   ],
   "source": [
    "x = np.array([\"Book\", \"Stationary\", \"Food\", \"Movie\", \"Home\"])\n",
    "y = np.array([11, 13, 11, 10, 17])\n",
    "\n",
    "plt.bar(x, y, width = 0.5, color = \"blue\")\n",
    "plt.show"
   ]
  },
  {
   "cell_type": "code",
   "execution_count": 15,
   "id": "e484854d",
   "metadata": {},
   "outputs": [
    {
     "data": {
      "text/plain": [
       "<matplotlib.legend.Legend at 0x7fba495c2d30>"
      ]
     },
     "execution_count": 15,
     "metadata": {},
     "output_type": "execute_result"
    },
    {
     "data": {
      "image/png": "[encoded data removed]",
      "text/plain": [
       "<Figure size 432x288 with 1 Axes>"
      ]
     },
     "metadata": {
      "needs_background": "light"
     },
     "output_type": "display_data"
    }
   ],
   "source": [
    "from matplotlib import pyplot as plt\n",
    "import numpy as np\n",
    "\n",
    "x = [\"January\", \"March\", \"April\"]\n",
    "y = [4, 3, 4]\n",
    "y2 = [5, 4, 4 ]\n",
    "y3 = [3, 5, 3]\n",
    "y4 = [3, 1, 6]\n",
    "y5 = [5, 8, 4]\n",
    "\n",
    "plt.plot(x, y, label = \"Book\")\n",
    "plt.plot(x, y2, label = \"Stationary\")\n",
    "plt.plot(x, y3, label = \"Food\")\n",
    "plt.plot(x, y4, label = \"Movie\")\n",
    "plt.plot(x, y5, label = \"Home\")\n",
    "\n",
    "plt.legend(loc = \"upper right\")\n"
   ]
  }
 ],
 "metadata": {
  "kernelspec": {
   "display_name": "Python 3 (ipykernel)",
   "language": "python",
   "name": "python3"
  },
  "language_info": {
   "codemirror_mode": {
    "name": "ipython",
    "version": 3
   },
   "file_extension": ".py",
   "mimetype": "text/x-python",
   "name": "python",
   "nbconvert_exporter": "python",
   "pygments_lexer": "ipython3",
   "version": "3.9.7"
  }
 },
 "nbformat": 4,
 "nbformat_minor": 5
}
